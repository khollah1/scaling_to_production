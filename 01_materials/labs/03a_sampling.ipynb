{
 "cells": [
  {
   "cell_type": "code",
   "execution_count": 2,
   "metadata": {},
   "outputs": [],
   "source": [
    "%load_ext dotenv\n",
    "%dotenv \n",
    "import os\n",
    "import sys\n",
    "sys.path.append(os.getenv('SRC_DIR'))\n",
    "from logger import get_logger\n",
    "_logs = get_logger(__name__)"
   ]
  },
  {
   "cell_type": "code",
   "execution_count": 1,
   "metadata": {},
   "outputs": [
    {
     "name": "stderr",
     "output_type": "stream",
     "text": [
      "c:\\Users\\klawa\\miniconda3\\envs\\dsi_participant\\lib\\site-packages\\dask\\dataframe\\_pyarrow_compat.py:17: FutureWarning: Minimal version of pyarrow will soon be increased to 14.0.1. You are using 11.0.0. Please consider upgrading.\n",
      "  warnings.warn(\n",
      "C:\\Users\\klawa\\AppData\\Local\\Temp\\ipykernel_16076\\1500862777.py:1: DeprecationWarning: The current Dask DataFrame implementation is deprecated. \n",
      "In a future release, Dask DataFrame will use new implementation that\n",
      "contains several improvements including a logical query planning.\n",
      "The user-facing DataFrame API will remain unchanged.\n",
      "\n",
      "The new implementation is already available and can be enabled by\n",
      "installing the dask-expr library:\n",
      "\n",
      "    $ pip install dask-expr\n",
      "\n",
      "and turning the query planning option on:\n",
      "\n",
      "    >>> import dask\n",
      "    >>> dask.config.set({'dataframe.query-planning': True})\n",
      "    >>> import dask.dataframe as dd\n",
      "\n",
      "API documentation for the new implementation is available at\n",
      "https://docs.dask.org/en/stable/dask-expr-api.html\n",
      "\n",
      "Any feedback can be reported on the Dask issue tracker\n",
      "https://github.com/dask/dask/issues \n",
      "\n",
      "  import dask.dataframe as dd\n"
     ]
    }
   ],
   "source": [
    "import dask.dataframe as dd\n",
    "import pandas as pd\n",
    "import numpy as np\n",
    "import os\n",
    "from glob import glob"
   ]
  },
  {
   "cell_type": "code",
   "execution_count": 3,
   "metadata": {},
   "outputs": [],
   "source": [
    "ft_dir = os.getenv(\"FEATURES_DATA\")\n",
    "ft_glob = glob(ft_dir+'/*.parquet')\n",
    "df = dd.read_parquet(ft_glob).compute().reset_index()"
   ]
  },
  {
   "cell_type": "markdown",
   "metadata": {},
   "source": [
    "# Sampling in Python"
   ]
  },
  {
   "cell_type": "markdown",
   "metadata": {},
   "source": [
    "+ There are different packages that allow sampling.\n",
    "+ A practical approach is to use pandas/Dask sampling methods."
   ]
  },
  {
   "cell_type": "markdown",
   "metadata": {},
   "source": [
    "## Random Sampling\n",
    "\n",
    "+ Sample n rows from a dataframe with [`df.sample()`](https://pandas.pydata.org/docs/reference/api/pandas.DataFrame.sample.html).\n",
    "\n",
    "```\n",
    "DataFrame.sample(\n",
    "    n=None, frac=None, replace=False, weights=None, \n",
    "    random_state=None, axis=None, ignore_index=False\n",
    "    )\n",
    "```"
   ]
  },
  {
   "cell_type": "code",
   "execution_count": 4,
   "metadata": {},
   "outputs": [
    {
     "data": {
      "text/html": [
       "<div>\n",
       "<style scoped>\n",
       "    .dataframe tbody tr th:only-of-type {\n",
       "        vertical-align: middle;\n",
       "    }\n",
       "\n",
       "    .dataframe tbody tr th {\n",
       "        vertical-align: top;\n",
       "    }\n",
       "\n",
       "    .dataframe thead th {\n",
       "        text-align: right;\n",
       "    }\n",
       "</style>\n",
       "<table border=\"1\" class=\"dataframe\">\n",
       "  <thead>\n",
       "    <tr style=\"text-align: right;\">\n",
       "      <th></th>\n",
       "      <th>ticker</th>\n",
       "      <th>Date</th>\n",
       "      <th>Open</th>\n",
       "      <th>High</th>\n",
       "      <th>Low</th>\n",
       "      <th>Close</th>\n",
       "      <th>Adj Close</th>\n",
       "      <th>Volume</th>\n",
       "      <th>sector</th>\n",
       "      <th>subsector</th>\n",
       "      <th>year</th>\n",
       "      <th>Close_lag_1</th>\n",
       "      <th>returns</th>\n",
       "      <th>positive_return</th>\n",
       "      <th>target</th>\n",
       "    </tr>\n",
       "  </thead>\n",
       "  <tbody>\n",
       "    <tr>\n",
       "      <th>0</th>\n",
       "      <td>OXY</td>\n",
       "      <td>2000-01-03</td>\n",
       "      <td>10.269221</td>\n",
       "      <td>10.388979</td>\n",
       "      <td>9.939887</td>\n",
       "      <td>9.969827</td>\n",
       "      <td>5.047807</td>\n",
       "      <td>1161303</td>\n",
       "      <td>Energy</td>\n",
       "      <td>Oil &amp; Gas Exploration &amp; Production</td>\n",
       "      <td>2000</td>\n",
       "      <td>NaN</td>\n",
       "      <td>NaN</td>\n",
       "      <td>0</td>\n",
       "      <td>0.0</td>\n",
       "    </tr>\n",
       "    <tr>\n",
       "      <th>1</th>\n",
       "      <td>OXY</td>\n",
       "      <td>2000-01-04</td>\n",
       "      <td>9.790190</td>\n",
       "      <td>10.059645</td>\n",
       "      <td>9.730311</td>\n",
       "      <td>9.760251</td>\n",
       "      <td>4.941698</td>\n",
       "      <td>1576308</td>\n",
       "      <td>Energy</td>\n",
       "      <td>Oil &amp; Gas Exploration &amp; Production</td>\n",
       "      <td>2000</td>\n",
       "      <td>9.969827</td>\n",
       "      <td>-0.021021</td>\n",
       "      <td>0</td>\n",
       "      <td>1.0</td>\n",
       "    </tr>\n",
       "    <tr>\n",
       "      <th>2</th>\n",
       "      <td>OXY</td>\n",
       "      <td>2000-01-05</td>\n",
       "      <td>9.760251</td>\n",
       "      <td>9.909948</td>\n",
       "      <td>9.670432</td>\n",
       "      <td>9.820130</td>\n",
       "      <td>4.972018</td>\n",
       "      <td>1172159</td>\n",
       "      <td>Energy</td>\n",
       "      <td>Oil &amp; Gas Exploration &amp; Production</td>\n",
       "      <td>2000</td>\n",
       "      <td>9.760251</td>\n",
       "      <td>0.006135</td>\n",
       "      <td>1</td>\n",
       "      <td>1.0</td>\n",
       "    </tr>\n",
       "    <tr>\n",
       "      <th>3</th>\n",
       "      <td>OXY</td>\n",
       "      <td>2000-01-06</td>\n",
       "      <td>9.730311</td>\n",
       "      <td>10.269221</td>\n",
       "      <td>9.700372</td>\n",
       "      <td>10.089584</td>\n",
       "      <td>5.108443</td>\n",
       "      <td>3336738</td>\n",
       "      <td>Energy</td>\n",
       "      <td>Oil &amp; Gas Exploration &amp; Production</td>\n",
       "      <td>2000</td>\n",
       "      <td>9.820130</td>\n",
       "      <td>0.027439</td>\n",
       "      <td>1</td>\n",
       "      <td>1.0</td>\n",
       "    </tr>\n",
       "    <tr>\n",
       "      <th>4</th>\n",
       "      <td>OXY</td>\n",
       "      <td>2000-01-07</td>\n",
       "      <td>10.329100</td>\n",
       "      <td>10.778191</td>\n",
       "      <td>10.209342</td>\n",
       "      <td>10.388979</td>\n",
       "      <td>5.260028</td>\n",
       "      <td>3325674</td>\n",
       "      <td>Energy</td>\n",
       "      <td>Oil &amp; Gas Exploration &amp; Production</td>\n",
       "      <td>2000</td>\n",
       "      <td>10.089584</td>\n",
       "      <td>0.029674</td>\n",
       "      <td>1</td>\n",
       "      <td>0.0</td>\n",
       "    </tr>\n",
       "    <tr>\n",
       "      <th>...</th>\n",
       "      <td>...</td>\n",
       "      <td>...</td>\n",
       "      <td>...</td>\n",
       "      <td>...</td>\n",
       "      <td>...</td>\n",
       "      <td>...</td>\n",
       "      <td>...</td>\n",
       "      <td>...</td>\n",
       "      <td>...</td>\n",
       "      <td>...</td>\n",
       "      <td>...</td>\n",
       "      <td>...</td>\n",
       "      <td>...</td>\n",
       "      <td>...</td>\n",
       "      <td>...</td>\n",
       "    </tr>\n",
       "    <tr>\n",
       "      <th>2744834</th>\n",
       "      <td>INTU</td>\n",
       "      <td>2024-06-18</td>\n",
       "      <td>603.729980</td>\n",
       "      <td>610.450012</td>\n",
       "      <td>601.900024</td>\n",
       "      <td>609.679993</td>\n",
       "      <td>609.679993</td>\n",
       "      <td>1375900</td>\n",
       "      <td>Information Technology</td>\n",
       "      <td>Application Software</td>\n",
       "      <td>2024</td>\n",
       "      <td>602.520020</td>\n",
       "      <td>0.011883</td>\n",
       "      <td>1</td>\n",
       "      <td>1.0</td>\n",
       "    </tr>\n",
       "    <tr>\n",
       "      <th>2744835</th>\n",
       "      <td>INTU</td>\n",
       "      <td>2024-06-20</td>\n",
       "      <td>610.489990</td>\n",
       "      <td>617.659973</td>\n",
       "      <td>608.299988</td>\n",
       "      <td>616.080017</td>\n",
       "      <td>616.080017</td>\n",
       "      <td>1840000</td>\n",
       "      <td>Information Technology</td>\n",
       "      <td>Application Software</td>\n",
       "      <td>2024</td>\n",
       "      <td>609.679993</td>\n",
       "      <td>0.010497</td>\n",
       "      <td>1</td>\n",
       "      <td>1.0</td>\n",
       "    </tr>\n",
       "    <tr>\n",
       "      <th>2744836</th>\n",
       "      <td>INTU</td>\n",
       "      <td>2024-06-21</td>\n",
       "      <td>625.840027</td>\n",
       "      <td>634.150024</td>\n",
       "      <td>618.549988</td>\n",
       "      <td>632.150024</td>\n",
       "      <td>632.150024</td>\n",
       "      <td>3682500</td>\n",
       "      <td>Information Technology</td>\n",
       "      <td>Application Software</td>\n",
       "      <td>2024</td>\n",
       "      <td>616.080017</td>\n",
       "      <td>0.026084</td>\n",
       "      <td>1</td>\n",
       "      <td>0.0</td>\n",
       "    </tr>\n",
       "    <tr>\n",
       "      <th>2744837</th>\n",
       "      <td>INTU</td>\n",
       "      <td>2024-06-24</td>\n",
       "      <td>630.719971</td>\n",
       "      <td>633.719971</td>\n",
       "      <td>622.460022</td>\n",
       "      <td>623.880005</td>\n",
       "      <td>623.880005</td>\n",
       "      <td>1606000</td>\n",
       "      <td>Information Technology</td>\n",
       "      <td>Application Software</td>\n",
       "      <td>2024</td>\n",
       "      <td>632.150024</td>\n",
       "      <td>-0.013082</td>\n",
       "      <td>0</td>\n",
       "      <td>1.0</td>\n",
       "    </tr>\n",
       "    <tr>\n",
       "      <th>2744838</th>\n",
       "      <td>INTU</td>\n",
       "      <td>2024-06-25</td>\n",
       "      <td>629.169983</td>\n",
       "      <td>630.549988</td>\n",
       "      <td>624.390015</td>\n",
       "      <td>630.469971</td>\n",
       "      <td>630.469971</td>\n",
       "      <td>1271900</td>\n",
       "      <td>Information Technology</td>\n",
       "      <td>Application Software</td>\n",
       "      <td>2024</td>\n",
       "      <td>623.880005</td>\n",
       "      <td>0.010563</td>\n",
       "      <td>1</td>\n",
       "      <td>NaN</td>\n",
       "    </tr>\n",
       "  </tbody>\n",
       "</table>\n",
       "<p>2744839 rows × 15 columns</p>\n",
       "</div>"
      ],
      "text/plain": [
       "        ticker       Date        Open        High         Low       Close  \\\n",
       "0          OXY 2000-01-03   10.269221   10.388979    9.939887    9.969827   \n",
       "1          OXY 2000-01-04    9.790190   10.059645    9.730311    9.760251   \n",
       "2          OXY 2000-01-05    9.760251    9.909948    9.670432    9.820130   \n",
       "3          OXY 2000-01-06    9.730311   10.269221    9.700372   10.089584   \n",
       "4          OXY 2000-01-07   10.329100   10.778191   10.209342   10.388979   \n",
       "...        ...        ...         ...         ...         ...         ...   \n",
       "2744834   INTU 2024-06-18  603.729980  610.450012  601.900024  609.679993   \n",
       "2744835   INTU 2024-06-20  610.489990  617.659973  608.299988  616.080017   \n",
       "2744836   INTU 2024-06-21  625.840027  634.150024  618.549988  632.150024   \n",
       "2744837   INTU 2024-06-24  630.719971  633.719971  622.460022  623.880005   \n",
       "2744838   INTU 2024-06-25  629.169983  630.549988  624.390015  630.469971   \n",
       "\n",
       "          Adj Close   Volume                  sector  \\\n",
       "0          5.047807  1161303                  Energy   \n",
       "1          4.941698  1576308                  Energy   \n",
       "2          4.972018  1172159                  Energy   \n",
       "3          5.108443  3336738                  Energy   \n",
       "4          5.260028  3325674                  Energy   \n",
       "...             ...      ...                     ...   \n",
       "2744834  609.679993  1375900  Information Technology   \n",
       "2744835  616.080017  1840000  Information Technology   \n",
       "2744836  632.150024  3682500  Information Technology   \n",
       "2744837  623.880005  1606000  Information Technology   \n",
       "2744838  630.469971  1271900  Information Technology   \n",
       "\n",
       "                                  subsector  year  Close_lag_1   returns  \\\n",
       "0        Oil & Gas Exploration & Production  2000          NaN       NaN   \n",
       "1        Oil & Gas Exploration & Production  2000     9.969827 -0.021021   \n",
       "2        Oil & Gas Exploration & Production  2000     9.760251  0.006135   \n",
       "3        Oil & Gas Exploration & Production  2000     9.820130  0.027439   \n",
       "4        Oil & Gas Exploration & Production  2000    10.089584  0.029674   \n",
       "...                                     ...   ...          ...       ...   \n",
       "2744834                Application Software  2024   602.520020  0.011883   \n",
       "2744835                Application Software  2024   609.679993  0.010497   \n",
       "2744836                Application Software  2024   616.080017  0.026084   \n",
       "2744837                Application Software  2024   632.150024 -0.013082   \n",
       "2744838                Application Software  2024   623.880005  0.010563   \n",
       "\n",
       "         positive_return  target  \n",
       "0                      0     0.0  \n",
       "1                      0     1.0  \n",
       "2                      1     1.0  \n",
       "3                      1     1.0  \n",
       "4                      1     0.0  \n",
       "...                  ...     ...  \n",
       "2744834                1     1.0  \n",
       "2744835                1     1.0  \n",
       "2744836                1     0.0  \n",
       "2744837                0     1.0  \n",
       "2744838                1     NaN  \n",
       "\n",
       "[2744839 rows x 15 columns]"
      ]
     },
     "execution_count": 4,
     "metadata": {},
     "output_type": "execute_result"
    }
   ],
   "source": [
    "df"
   ]
  },
  {
   "cell_type": "code",
   "execution_count": null,
   "metadata": {},
   "outputs": [],
   "source": [
    "df.sample(n = 5, random_state = 40)"
   ]
  },
  {
   "cell_type": "code",
   "execution_count": 5,
   "metadata": {},
   "outputs": [
    {
     "data": {
      "text/plain": [
       "['OXY', 'TXN', 'PCG', 'CBRE', 'ROK', 'AMT', 'D', 'YUM', 'PWR']"
      ]
     },
     "execution_count": 5,
     "metadata": {},
     "output_type": "execute_result"
    }
   ],
   "source": [
    "# select_tickers = df['ticker'].unique().tolist()[0:9]\n",
    "select_tickers = ['OXY', 'TXN', 'PCG', 'CBRE', 'ROK', 'AMT', 'D', 'YUM', 'PWR']\n",
    "select_tickers"
   ]
  },
  {
   "cell_type": "code",
   "execution_count": 6,
   "metadata": {},
   "outputs": [
    {
     "data": {
      "text/plain": [
       "((5431, 15), (54308, 15))"
      ]
     },
     "execution_count": 6,
     "metadata": {},
     "output_type": "execute_result"
    }
   ],
   "source": [
    "idx = df['ticker'].isin(select_tickers)\n",
    "small_df = df[idx]\n",
    "simple_sample_dt = small_df.sample(frac = 0.1)\n",
    "simple_sample_dt.shape, small_df.shape"
   ]
  },
  {
   "cell_type": "markdown",
   "metadata": {},
   "source": [
    "Look at the distribution of tickers."
   ]
  },
  {
   "cell_type": "code",
   "execution_count": 7,
   "metadata": {},
   "outputs": [
    {
     "data": {
      "text/plain": [
       "<Axes: xlabel='ticker'>"
      ]
     },
     "execution_count": 7,
     "metadata": {},
     "output_type": "execute_result"
    },
    {
     "data": {
      "image/png": "[encoded data removed]",
      "text/plain": [
       "<Figure size 640x480 with 1 Axes>"
      ]
     },
     "metadata": {},
     "output_type": "display_data"
    }
   ],
   "source": [
    "small_df['ticker'].value_counts().plot(kind='bar')"
   ]
  },
  {
   "cell_type": "code",
   "execution_count": 8,
   "metadata": {},
   "outputs": [
    {
     "data": {
      "text/plain": [
       "<Axes: xlabel='ticker'>"
      ]
     },
     "execution_count": 8,
     "metadata": {},
     "output_type": "execute_result"
    },
    {
     "data": {
      "image/png": "[encoded data removed]",
      "text/plain": [
       "<Figure size 640x480 with 1 Axes>"
      ]
     },
     "metadata": {},
     "output_type": "display_data"
    }
   ],
   "source": [
    "simple_sample_dt['ticker'].value_counts().plot(kind='bar')"
   ]
  },
  {
   "cell_type": "markdown",
   "metadata": {},
   "source": [
    "## Stratified Sampling\n",
    "\n",
    "+ Use `groupby()` and `.sample()` for stratified sampling."
   ]
  },
  {
   "cell_type": "code",
   "execution_count": 9,
   "metadata": {},
   "outputs": [
    {
     "data": {
      "text/plain": [
       "<Axes: xlabel='ticker'>"
      ]
     },
     "execution_count": 9,
     "metadata": {},
     "output_type": "execute_result"
    },
    {
     "data": {
      "image/png": "[encoded data removed]",
      "text/plain": [
       "<Figure size 640x480 with 1 Axes>"
      ]
     },
     "metadata": {},
     "output_type": "display_data"
    }
   ],
   "source": [
    "strat_sample_dt = small_df.groupby(['ticker']).sample(frac = 0.1)\n",
    "strat_sample_dt['ticker'].value_counts().plot(kind='bar')"
   ]
  },
  {
   "cell_type": "markdown",
   "metadata": {},
   "source": [
    "# Sampling in Dask\n",
    "\n",
    "+ Stratified sampling in `dask` can be achieved with `groupby().apply()` and a lambda function."
   ]
  },
  {
   "cell_type": "code",
   "execution_count": 10,
   "metadata": {},
   "outputs": [
    {
     "name": "stderr",
     "output_type": "stream",
     "text": [
      "C:\\Users\\klawa\\AppData\\Local\\Temp\\ipykernel_55248\\2932236319.py:2: UserWarning: `meta` is not specified, inferred from partial data. Please provide `meta` if the result is unexpected.\n",
      "  Before: .apply(func)\n",
      "  After:  .apply(func, meta={'x': 'f8', 'y': 'f8'}) for dataframe result\n",
      "  or:     .apply(func, meta=('x', 'f8'))            for series result\n",
      "  strat_sample_dd_dt = (dd_dt\n"
     ]
    },
    {
     "data": {
      "text/plain": [
       "<Axes: xlabel='ticker'>"
      ]
     },
     "execution_count": 10,
     "metadata": {},
     "output_type": "execute_result"
    },
    {
     "data": {
      "image/png": "[encoded data removed]",
      "text/plain": [
       "<Figure size 640x480 with 1 Axes>"
      ]
     },
     "metadata": {},
     "output_type": "display_data"
    },
    {
     "ename": "",
     "evalue": "",
     "output_type": "error",
     "traceback": [
      "\u001b[1;31mThe Kernel crashed while executing code in the current cell or a previous cell. \n",
      "\u001b[1;31mPlease review the code in the cell(s) to identify a possible cause of the failure. \n",
      "\u001b[1;31mClick <a href='https://aka.ms/vscodeJupyterKernelCrash'>here</a> for more info. \n",
      "\u001b[1;31mView Jupyter <a href='command:jupyter.viewOutput'>log</a> for further details."
     ]
    }
   ],
   "source": [
    "dd_dt = dd.read_parquet(ft_glob)\n",
    "strat_sample_dd_dt = (dd_dt\n",
    "                      .groupby('ticker', group_keys=False)\n",
    "                      .apply(lambda x: x.sample(frac = 0.1))\n",
    "                      .compute()\n",
    "                      .reset_index())\n",
    "strat_sample_dd_dt[strat_sample_dd_dt['ticker'].isin(select_tickers)]['ticker'].value_counts().plot(kind='bar')"
   ]
  }
 ],
 "metadata": {
  "kernelspec": {
   "display_name": "env",
   "language": "python",
   "name": "python3"
  },
  "language_info": {
   "codemirror_mode": {
    "name": "ipython",
    "version": 3
   },
   "file_extension": ".py",
   "mimetype": "text/x-python",
   "name": "python",
   "nbconvert_exporter": "python",
   "pygments_lexer": "ipython3",
   "version": "3.9.15"
  }
 },
 "nbformat": 4,
 "nbformat_minor": 2
}
